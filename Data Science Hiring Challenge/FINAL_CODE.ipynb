{
 "cells": [
  {
   "cell_type": "code",
   "execution_count": null,
   "metadata": {},
   "outputs": [],
   "source": [
    "import pandas as pd\n",
    "import numpy as np\n",
    "import xgboost as xgb\n",
    "from sklearn.preprocessing import LabelEncoder\n",
    "from scipy.sparse import hstack\n",
    "import string\n",
    "from sklearn.feature_extraction.text import CountVectorizer\n",
    "from scipy.sparse import csr_matrix\n",
    "\n",
    "translator = str.maketrans('', '', string.punctuation)\n",
    "train = pd.read_csv('train.csv')\n",
    "test = pd.read_csv('test.csv')"
   ]
  },
  {
   "cell_type": "code",
   "execution_count": null,
   "metadata": {
    "collapsed": true
   },
   "outputs": [],
   "source": [
    "train['desc'] = train['desc'].apply(lambda x: str(x).translate(translator).lower())\n",
    "test['desc'] = test['desc'].apply(lambda x: str(x).translate(translator).lower())\n"
   ]
  },
  {
   "cell_type": "code",
   "execution_count": null,
   "metadata": {
    "collapsed": true
   },
   "outputs": [],
   "source": [
    "train['keywords'] = train['keywords'].apply(lambda x: str(x.replace('-', ' ')).translate(translator).lower())\n",
    "test['keywords'] = test['keywords'].apply(lambda x: str(x.replace('-', ' ')).translate(translator).lower())"
   ]
  },
  {
   "cell_type": "code",
   "execution_count": null,
   "metadata": {
    "collapsed": true
   },
   "outputs": [],
   "source": [
    "count_vec = CountVectorizer(min_df=5, stop_words='english', max_features=5000)"
   ]
  },
  {
   "cell_type": "code",
   "execution_count": null,
   "metadata": {
    "collapsed": true
   },
   "outputs": [],
   "source": [
    "train_vectors_desc = count_vec.fit_transform(train['desc'])\n",
    "test_vectors_desc = count_vec.transform(test['desc'])\n",
    "\n",
    "train_vectors_key = count_vec.fit_transform(train['keywords'])\n",
    "test_vectors_key = count_vec.transform(test['keywords'])"
   ]
  },
  {
   "cell_type": "code",
   "execution_count": null,
   "metadata": {
    "collapsed": true
   },
   "outputs": [],
   "source": [
    "train['created_at'] = pd.to_datetime(train['created_at'], unit='s')\n",
    "train['state_changed_at'] = pd.to_datetime(train['state_changed_at'], unit='s')\n",
    "train['deadline'] = pd.to_datetime(train['deadline'], unit='s')\n",
    "train['launched_at'] = pd.to_datetime(train['launched_at'], unit='s')"
   ]
  },
  {
   "cell_type": "code",
   "execution_count": null,
   "metadata": {
    "collapsed": true
   },
   "outputs": [],
   "source": [
    "test['created_at'] = pd.to_datetime(test['created_at'], unit='s')\n",
    "test['state_changed_at'] = pd.to_datetime(test['state_changed_at'], unit='s')\n",
    "test['deadline'] = pd.to_datetime(test['deadline'], unit='s')\n",
    "test['launched_at'] = pd.to_datetime(test['launched_at'], unit='s')"
   ]
  },
  {
   "cell_type": "code",
   "execution_count": null,
   "metadata": {
    "collapsed": true
   },
   "outputs": [],
   "source": [
    "train['c_s'] = (train['created_at'] - train['state_changed_at']).astype('timedelta64[h]')\n",
    "train['s_d'] = (train['state_changed_at'] - train['deadline']).astype('timedelta64[h]')\n",
    "train['d_l'] = (train['deadline'] - train['launched_at']).astype('timedelta64[h]')\n",
    "train['l_c'] = (train['launched_at'] - train['created_at']).astype('timedelta64[h]')\n",
    "\n",
    "test['c_s'] = (test['created_at'] - test['state_changed_at']).astype('timedelta64[h]')\n",
    "test['s_d'] = (test['state_changed_at'] - test['deadline']).astype('timedelta64[h]')\n",
    "test['d_l'] = (test['deadline'] - test['launched_at']).astype('timedelta64[h]')\n",
    "test['l_c'] = (test['launched_at'] - test['created_at']).astype('timedelta64[h]')"
   ]
  },
  {
   "cell_type": "code",
   "execution_count": null,
   "metadata": {
    "collapsed": true
   },
   "outputs": [],
   "source": [
    "cols_to_use = ['name', 'desc']\n",
    "len_feats = ['name_len', 'desc_len']\n",
    "count_feats = ['name_count', 'desc_count']\n",
    "\n",
    "for i in np.arange(2):\n",
    "    train[len_feats[i]] = train[cols_to_use[i]].apply(str).apply(len)\n",
    "    train[count_feats[i]] = train[cols_to_use[i]].apply(str).apply(lambda x: len(x.split(' ')))\n",
    "train['keywords_len'] = train['keywords'].apply(str).apply(len)\n",
    "train['keywords_count'] = train['keywords'].apply(str).apply(lambda x: len(x.split('-')))"
   ]
  },
  {
   "cell_type": "code",
   "execution_count": null,
   "metadata": {
    "collapsed": true
   },
   "outputs": [],
   "source": [
    "for i in np.arange(2):\n",
    "    test[len_feats[i]] = test[cols_to_use[i]].apply(str).apply(len)\n",
    "    test[count_feats[i]] = test[cols_to_use[i]].apply(str).apply(lambda x: len(x.split(' ')))\n",
    "test['keywords_len'] = test['keywords'].apply(str).apply(len)\n",
    "test['keywords_count'] = test['keywords'].apply(str).apply(lambda x: len(x.split('-')))\n"
   ]
  },
  {
   "cell_type": "code",
   "execution_count": null,
   "metadata": {
    "collapsed": true
   },
   "outputs": [],
   "source": [
    "cols_for_model = np.setdiff1d(train.columns.values, ['project_id', 'name', 'desc', 'keywords',\n",
    "                                                     'backers_count', 'final_status'])\n"
   ]
  },
  {
   "cell_type": "code",
   "execution_count": null,
   "metadata": {
    "scrolled": false
   },
   "outputs": [],
   "source": [
    "cols_for_model"
   ]
  },
  {
   "cell_type": "code",
   "execution_count": null,
   "metadata": {},
   "outputs": [],
   "source": [
    "train.info()"
   ]
  },
  {
   "cell_type": "code",
   "execution_count": null,
   "metadata": {},
   "outputs": [],
   "source": [
    "for f in cols_for_model:\n",
    "    if (train[f].dtype == 'object') or (train[f].dtype == 'datetime64[ns]'):\n",
    "        print(f)\n",
    "        lbl = LabelEncoder()\n",
    "        lbl.fit(list(train[f].values) + list(test[f].values))\n",
    "        train[f] = lbl.transform(list(train[f].values))\n",
    "        test[f] = lbl.transform(list(test[f].values))\n"
   ]
  },
  {
   "cell_type": "code",
   "execution_count": null,
   "metadata": {
    "collapsed": true
   },
   "outputs": [],
   "source": [
    "x_train = hstack([csr_matrix(train[list(cols_for_model)].astype(float).values), train_vectors_desc, train_vectors_key])\n",
    "x_test = hstack([csr_matrix(test[list(cols_for_model)].astype(float).values), test_vectors_desc, test_vectors_key])"
   ]
  },
  {
   "cell_type": "code",
   "execution_count": null,
   "metadata": {
    "collapsed": true
   },
   "outputs": [],
   "source": [
    "dtrain = xgb.DMatrix(x_train, label=train['final_status'])\n",
    "dtest = xgb.DMatrix(x_test)"
   ]
  },
  {
   "cell_type": "code",
   "execution_count": null,
   "metadata": {
    "scrolled": true
   },
   "outputs": [],
   "source": [
    "params = {'objective': 'binary:logistic',\n",
    "          'booster': 'gbtree',\n",
    "          'eval_metric': 'error',\n",
    "          'nthread': 4,\n",
    "          'silent': 1,\n",
    "          'max_depth': 6,\n",
    "          'subsample': 0.9,\n",
    "          'min_child_weight': 1,\n",
    "          \"colsample_bytree\": 0.9,\n",
    "          'eta': 0.1,\n",
    "          'seed': 2017}\n",
    "\n",
    "num_rounds = 428\n",
    "watchlist = [(dtrain, 'train')]\n",
    "seeds = [127863, 125, 67498, 9864, 6578996, 24536, 82146, 50981]\n",
    "i = 1\n",
    "for s in seeds:\n",
    "    print('Iteration-{}'.format(i))\n",
    "    params['seed'] = s\n",
    "    clf_xgb = xgb.train(params, dtrain, num_rounds, verbose_eval=50, evals=watchlist)\n",
    "    if i == 1:\n",
    "        preds = clf_xgb.predict(dtest)\n",
    "    else:\n",
    "        preds = preds + clf_xgb.predict(dtest)\n",
    "    i += 1\n",
    "preds = preds/float(len(seeds))\n"
   ]
  },
  {
   "cell_type": "code",
   "execution_count": null,
   "metadata": {
    "collapsed": true
   },
   "outputs": [],
   "source": [
    "submit = pd.DataFrame({'project_id': test['project_id'], 'final_status': preds})"
   ]
  },
  {
   "cell_type": "code",
   "execution_count": null,
   "metadata": {
    "collapsed": true
   },
   "outputs": [],
   "source": [
    "submit.loc[submit['final_status'] > 0.30, 'final_status'] = 1\n",
    "submit.loc[submit['final_status'] <= 0.30, 'final_status'] = 0\n",
    "submit['final_status'] = submit['final_status'].astype(int)"
   ]
  },
  {
   "cell_type": "code",
   "execution_count": null,
   "metadata": {
    "collapsed": true
   },
   "outputs": [],
   "source": [
    "submit[['project_id', 'final_status']].to_csv('submit_xgb.csv', index=False)"
   ]
  }
 ],
 "metadata": {
  "kernelspec": {
   "display_name": "Python 3",
   "language": "python",
   "name": "python3"
  },
  "language_info": {
   "codemirror_mode": {
    "name": "ipython",
    "version": 3
   },
   "file_extension": ".py",
   "mimetype": "text/x-python",
   "name": "python",
   "nbconvert_exporter": "python",
   "pygments_lexer": "ipython3",
   "version": "3.6.2"
  }
 },
 "nbformat": 4,
 "nbformat_minor": 2
}
